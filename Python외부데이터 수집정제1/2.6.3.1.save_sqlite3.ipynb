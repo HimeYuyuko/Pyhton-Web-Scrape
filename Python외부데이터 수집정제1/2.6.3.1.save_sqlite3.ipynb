{
 "cells": [
  {
   "cell_type": "code",
   "execution_count": 2,
   "id": "67918741",
   "metadata": {},
   "outputs": [],
   "source": [
    "import pandas as pd\n",
    "import sqlite3\n",
    "from pandas.io import sql\n",
    "import os"
   ]
  },
  {
   "cell_type": "code",
   "execution_count": 3,
   "id": "637ab258",
   "metadata": {},
   "outputs": [],
   "source": [
    "conn = sqlite3.connect('top_cities.db')"
   ]
  },
  {
   "cell_type": "code",
   "execution_count": 4,
   "id": "4d79b618",
   "metadata": {},
   "outputs": [],
   "source": [
    "c = conn.cursor()"
   ]
  },
  {
   "cell_type": "code",
   "execution_count": 5,
   "id": "bc550bcb",
   "metadata": {},
   "outputs": [
    {
     "data": {
      "text/plain": [
       "<sqlite3.Cursor at 0x2330d7662d0>"
      ]
     },
     "execution_count": 5,
     "metadata": {},
     "output_type": "execute_result"
    }
   ],
   "source": [
    "c.execute('DROP TABLE IF EXISTS cities')"
   ]
  },
  {
   "cell_type": "code",
   "execution_count": 6,
   "id": "6ae3f39c",
   "metadata": {},
   "outputs": [
    {
     "data": {
      "text/plain": [
       "<sqlite3.Cursor at 0x2330d7662d0>"
      ]
     },
     "execution_count": 6,
     "metadata": {},
     "output_type": "execute_result"
    }
   ],
   "source": [
    "c.execute('''\n",
    "    CREATE TABLE cities(\n",
    "    rank integar,\n",
    "    city text,\n",
    "    population integer\n",
    "    )\n",
    "    ''')"
   ]
  },
  {
   "cell_type": "code",
   "execution_count": 8,
   "id": "50c9ce6d",
   "metadata": {},
   "outputs": [
    {
     "data": {
      "text/plain": [
       "<sqlite3.Cursor at 0x2330d7662d0>"
      ]
     },
     "execution_count": 8,
     "metadata": {},
     "output_type": "execute_result"
    }
   ],
   "source": [
    "c.execute('INSERT INTO cities VALUES(?,?,?)',(1,'상하이',24150000))"
   ]
  },
  {
   "cell_type": "code",
   "execution_count": 9,
   "id": "a0c51acd",
   "metadata": {},
   "outputs": [
    {
     "data": {
      "text/plain": [
       "<sqlite3.Cursor at 0x2330d7662d0>"
      ]
     },
     "execution_count": 9,
     "metadata": {},
     "output_type": "execute_result"
    }
   ],
   "source": [
    "c.execute('INSERT INTO cities VALUES(:rank,:city,:population)',{'rank':2,'city':'카라치','population':23500000})"
   ]
  },
  {
   "cell_type": "code",
   "execution_count": 11,
   "id": "55566d80",
   "metadata": {},
   "outputs": [
    {
     "data": {
      "text/plain": [
       "<sqlite3.Cursor at 0x2330d7662d0>"
      ]
     },
     "execution_count": 11,
     "metadata": {},
     "output_type": "execute_result"
    }
   ],
   "source": [
    "c.executemany('INSERT INTO cities VALUES(:rank,:city,:population)',[\n",
    "    {'rank':3,'city':'베이징','population':21516000},\n",
    "    {'rank':4,'city':'텐진','population':14722100},\n",
    "    {'rank':5,'city':'이스탄불','population':14160467},\n",
    "])"
   ]
  },
  {
   "cell_type": "code",
   "execution_count": 12,
   "id": "2757481b",
   "metadata": {},
   "outputs": [],
   "source": [
    "conn.commit()"
   ]
  },
  {
   "cell_type": "code",
   "execution_count": 13,
   "id": "b33891da",
   "metadata": {},
   "outputs": [
    {
     "data": {
      "text/plain": [
       "<sqlite3.Cursor at 0x2330d7662d0>"
      ]
     },
     "execution_count": 13,
     "metadata": {},
     "output_type": "execute_result"
    }
   ],
   "source": [
    "c.execute('Select * from cities')"
   ]
  },
  {
   "cell_type": "code",
   "execution_count": 14,
   "id": "e215e77f",
   "metadata": {},
   "outputs": [
    {
     "name": "stdout",
     "output_type": "stream",
     "text": [
      "(1, '상하이', 24150000)\n",
      "(2, '카라치', 23500000)\n",
      "(3, '베이징', 21516000)\n",
      "(4, '텐진', 14722100)\n",
      "(5, '이스탄불', 14160467)\n"
     ]
    }
   ],
   "source": [
    "for row in c.fetchall():\n",
    "    print(row)"
   ]
  },
  {
   "cell_type": "code",
   "execution_count": 15,
   "id": "a586231f",
   "metadata": {},
   "outputs": [],
   "source": [
    "conn.close()"
   ]
  },
  {
   "cell_type": "code",
   "execution_count": null,
   "id": "a0443681",
   "metadata": {},
   "outputs": [],
   "source": []
  }
 ],
 "metadata": {
  "kernelspec": {
   "display_name": "Python 3 (ipykernel)",
   "language": "python",
   "name": "python3"
  },
  "language_info": {
   "codemirror_mode": {
    "name": "ipython",
    "version": 3
   },
   "file_extension": ".py",
   "mimetype": "text/x-python",
   "name": "python",
   "nbconvert_exporter": "python",
   "pygments_lexer": "ipython3",
   "version": "3.9.12"
  }
 },
 "nbformat": 4,
 "nbformat_minor": 5
}
