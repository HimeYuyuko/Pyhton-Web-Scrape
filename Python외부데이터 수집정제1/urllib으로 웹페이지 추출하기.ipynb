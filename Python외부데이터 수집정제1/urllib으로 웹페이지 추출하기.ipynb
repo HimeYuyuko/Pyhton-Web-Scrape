{
 "cells": [
  {
   "cell_type": "code",
   "execution_count": 7,
   "id": "e73d074e",
   "metadata": {},
   "outputs": [
    {
     "data": {
      "text/plain": [
       "'text/html; charset=UTF-8'"
      ]
     },
     "execution_count": 7,
     "metadata": {},
     "output_type": "execute_result"
    }
   ],
   "source": [
    "from urllib.request import urlopen\n",
    "\n",
    "f= urlopen('http://hanbit.co.kr')\n",
    "\n",
    "type(f)\n",
    "\n",
    "f.read()\n",
    "\n",
    "f.status\n",
    "\n",
    "f.getheader('Content-Type')"
   ]
  }
 ],
 "metadata": {
  "kernelspec": {
   "display_name": "Python 3 (ipykernel)",
   "language": "python",
   "name": "python3"
  },
  "language_info": {
   "codemirror_mode": {
    "name": "ipython",
    "version": 3
   },
   "file_extension": ".py",
   "mimetype": "text/x-python",
   "name": "python",
   "nbconvert_exporter": "python",
   "pygments_lexer": "ipython3",
   "version": "3.9.12"
  }
 },
 "nbformat": 4,
 "nbformat_minor": 5
}
