{
 "cells": [
  {
   "cell_type": "code",
   "execution_count": 2,
   "id": "30500494",
   "metadata": {},
   "outputs": [],
   "source": [
    "import json"
   ]
  },
  {
   "cell_type": "code",
   "execution_count": 3,
   "id": "7b649fba",
   "metadata": {},
   "outputs": [],
   "source": [
    "cities = [\n",
    "        {'rank': 1, 'city': '상하이', 'population': 24150000},\n",
    "        {'rank': 2, 'city': '카라치', 'population': 23500000},\n",
    "        {'rank': 3, 'city': '베이징', 'population': 21516000},\n",
    "        {'rank': 4, 'city': '텐진', 'population': 14722100},\n",
    "        {'rank': 5, 'city': '이스탄불', 'population': 14160467},\n",
    "]"
   ]
  },
  {
   "cell_type": "code",
   "execution_count": 5,
   "id": "d166fd74",
   "metadata": {},
   "outputs": [
    {
     "name": "stdout",
     "output_type": "stream",
     "text": [
      "[{\"rank\": 1, \"city\": \"\\uc0c1\\ud558\\uc774\", \"population\": 24150000}, {\"rank\": 2, \"city\": \"\\uce74\\ub77c\\uce58\", \"population\": 23500000}, {\"rank\": 3, \"city\": \"\\ubca0\\uc774\\uc9d5\", \"population\": 21516000}, {\"rank\": 4, \"city\": \"\\ud150\\uc9c4\", \"population\": 14722100}, {\"rank\": 5, \"city\": \"\\uc774\\uc2a4\\ud0c4\\ubd88\", \"population\": 14160467}]\n"
     ]
    }
   ],
   "source": [
    "print(json.dumps(cities))"
   ]
  },
  {
   "cell_type": "code",
   "execution_count": 7,
   "id": "44026612",
   "metadata": {},
   "outputs": [
    {
     "name": "stdout",
     "output_type": "stream",
     "text": [
      "[\n",
      "  {\n",
      "    \"rank\": 1,\n",
      "    \"city\": \"상하이\",\n",
      "    \"population\": 24150000\n",
      "  },\n",
      "  {\n",
      "    \"rank\": 2,\n",
      "    \"city\": \"카라치\",\n",
      "    \"population\": 23500000\n",
      "  },\n",
      "  {\n",
      "    \"rank\": 3,\n",
      "    \"city\": \"베이징\",\n",
      "    \"population\": 21516000\n",
      "  },\n",
      "  {\n",
      "    \"rank\": 4,\n",
      "    \"city\": \"텐진\",\n",
      "    \"population\": 14722100\n",
      "  },\n",
      "  {\n",
      "    \"rank\": 5,\n",
      "    \"city\": \"이스탄불\",\n",
      "    \"population\": 14160467\n",
      "  }\n",
      "]\n"
     ]
    }
   ],
   "source": [
    "print(json.dumps(cities, ensure_ascii=False, indent =2))"
   ]
  },
  {
   "cell_type": "code",
   "execution_count": 9,
   "id": "9790d0ab",
   "metadata": {},
   "outputs": [],
   "source": [
    "with open('top_cities.json', 'w') as fw:\n",
    "    json.dump(cities, fw)"
   ]
  },
  {
   "cell_type": "code",
   "execution_count": 10,
   "id": "ab5a0e0c",
   "metadata": {},
   "outputs": [
    {
     "name": "stdout",
     "output_type": "stream",
     "text": [
      "[{'rank': 1, 'city': '상하이', 'population': 24150000}, {'rank': 2, 'city': '카라치', 'population': 23500000}, {'rank': 3, 'city': '베이징', 'population': 21516000}, {'rank': 4, 'city': '텐진', 'population': 14722100}, {'rank': 5, 'city': '이스탄불', 'population': 14160467}]\n"
     ]
    }
   ],
   "source": [
    "with open('top_cities.json', 'r') as fr:\n",
    "    json_file = json.load(fr)\n",
    "    print(json_file)"
   ]
  }
 ],
 "metadata": {
  "kernelspec": {
   "display_name": "Python 3 (ipykernel)",
   "language": "python",
   "name": "python3"
  },
  "language_info": {
   "codemirror_mode": {
    "name": "ipython",
    "version": 3
   },
   "file_extension": ".py",
   "mimetype": "text/x-python",
   "name": "python",
   "nbconvert_exporter": "python",
   "pygments_lexer": "ipython3",
   "version": "3.9.12"
  }
 },
 "nbformat": 4,
 "nbformat_minor": 5
}
