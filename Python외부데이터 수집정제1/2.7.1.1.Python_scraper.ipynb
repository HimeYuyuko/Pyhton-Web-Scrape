{
 "cells": [
  {
   "cell_type": "code",
   "execution_count": 27,
   "id": "7034a094",
   "metadata": {},
   "outputs": [],
   "source": [
    "import re\n",
    "import sqlite3\n",
    "from urllib.request import urlopen\n",
    "from html import unescape"
   ]
  },
  {
   "cell_type": "code",
   "execution_count": 28,
   "id": "ebc6f715",
   "metadata": {},
   "outputs": [],
   "source": [
    "def fetch(url):\n",
    "    f= urlopen(url)\n",
    "    encoding =f.info().get_content_charset(failobj=\"utf-8\")\n",
    "    html = f.read().decode(encoding)\n",
    "    return html"
   ]
  },
  {
   "cell_type": "code",
   "execution_count": 58,
   "id": "8ca5f51f",
   "metadata": {},
   "outputs": [],
   "source": [
    "def scrape(html):\n",
    "    books=[]\n",
    "    for partial_html in re.findall(r'<td class=\"left\"><a.*?</td>',html,re.DOTALL):\n",
    "        url = re.search(r'<a href=\"(.*?)\">',partial_html).group(1)\n",
    "        url = 'http://www.hanbit.co.kr'+url\n",
    "        \n",
    "        title = re.sub(r'<.*?>','',partial_html)\n",
    "        title = unescape(title)\n",
    "        books.append({'url':url,'title':title})\n",
    "    return books"
   ]
  },
  {
   "cell_type": "code",
   "execution_count": 60,
   "id": "2e5254ae",
   "metadata": {},
   "outputs": [],
   "source": [
    "def save(db_path,books):\n",
    "    conn=sqlite3.connect(db_path)\n",
    "    \n",
    "    c =conn.cursor()\n",
    "    \n",
    "    c.execute('DROP TABLE IF EXISTS books')\n",
    "    \n",
    "    c.execute('''\n",
    "            CREATE TABLE books(\n",
    "            title text,\n",
    "            url text\n",
    "            )\n",
    "            ''')\n",
    "    c.executemany('INSERT INTO books VALUES(:title,:url)',books)\n",
    "    \n",
    "    conn.commit()\n",
    "    conn.close()"
   ]
  },
  {
   "cell_type": "code",
   "execution_count": 56,
   "id": "6cfc49f4",
   "metadata": {},
   "outputs": [],
   "source": [
    "def main():\n",
    "    html = fetch('http://www.hanbit.co.kr/store/books/full_book_list.html')\n",
    "    books = scrape(html)\n",
    "    save('books.db',books)"
   ]
  },
  {
   "cell_type": "code",
   "execution_count": 61,
   "id": "9335ab6c",
   "metadata": {},
   "outputs": [],
   "source": [
    "if __name__ == '__main__':\n",
    "    main()"
   ]
  },
  {
   "cell_type": "code",
   "execution_count": null,
   "id": "d83b582b",
   "metadata": {},
   "outputs": [],
   "source": []
  },
  {
   "cell_type": "code",
   "execution_count": null,
   "id": "f0eb361e",
   "metadata": {},
   "outputs": [],
   "source": []
  },
  {
   "cell_type": "code",
   "execution_count": null,
   "id": "f4a32ba8",
   "metadata": {},
   "outputs": [],
   "source": []
  },
  {
   "cell_type": "code",
   "execution_count": null,
   "id": "eaf4f3db",
   "metadata": {},
   "outputs": [],
   "source": []
  },
  {
   "cell_type": "code",
   "execution_count": null,
   "id": "4a178c29",
   "metadata": {},
   "outputs": [],
   "source": []
  },
  {
   "cell_type": "code",
   "execution_count": null,
   "id": "44a28d0d",
   "metadata": {},
   "outputs": [],
   "source": []
  },
  {
   "cell_type": "code",
   "execution_count": null,
   "id": "819e79a6",
   "metadata": {},
   "outputs": [],
   "source": []
  },
  {
   "cell_type": "code",
   "execution_count": null,
   "id": "446cacb5",
   "metadata": {},
   "outputs": [],
   "source": []
  },
  {
   "cell_type": "code",
   "execution_count": null,
   "id": "7ff032af",
   "metadata": {},
   "outputs": [],
   "source": []
  },
  {
   "cell_type": "code",
   "execution_count": null,
   "id": "fea01f48",
   "metadata": {},
   "outputs": [],
   "source": []
  },
  {
   "cell_type": "code",
   "execution_count": null,
   "id": "85d2af72",
   "metadata": {},
   "outputs": [],
   "source": []
  },
  {
   "cell_type": "code",
   "execution_count": null,
   "id": "bc3f8caa",
   "metadata": {},
   "outputs": [],
   "source": []
  },
  {
   "cell_type": "code",
   "execution_count": null,
   "id": "709a076c",
   "metadata": {},
   "outputs": [],
   "source": []
  },
  {
   "cell_type": "code",
   "execution_count": null,
   "id": "a79a2b43",
   "metadata": {},
   "outputs": [],
   "source": []
  },
  {
   "cell_type": "code",
   "execution_count": null,
   "id": "b70d40d2",
   "metadata": {},
   "outputs": [],
   "source": []
  },
  {
   "cell_type": "code",
   "execution_count": null,
   "id": "edaac5ca",
   "metadata": {},
   "outputs": [],
   "source": []
  },
  {
   "cell_type": "code",
   "execution_count": null,
   "id": "a04a642e",
   "metadata": {},
   "outputs": [],
   "source": []
  },
  {
   "cell_type": "code",
   "execution_count": null,
   "id": "574479c8",
   "metadata": {},
   "outputs": [],
   "source": []
  }
 ],
 "metadata": {
  "kernelspec": {
   "display_name": "Python 3 (ipykernel)",
   "language": "python",
   "name": "python3"
  },
  "language_info": {
   "codemirror_mode": {
    "name": "ipython",
    "version": 3
   },
   "file_extension": ".py",
   "mimetype": "text/x-python",
   "name": "python",
   "nbconvert_exporter": "python",
   "pygments_lexer": "ipython3",
   "version": "3.9.12"
  }
 },
 "nbformat": 4,
 "nbformat_minor": 5
}
